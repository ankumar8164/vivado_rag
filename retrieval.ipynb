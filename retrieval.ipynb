{
 "cells": [
  {
   "cell_type": "markdown",
   "id": "62be4621",
   "metadata": {},
   "source": [
    "# Setup"
   ]
  },
  {
   "cell_type": "code",
   "execution_count": 19,
   "id": "0486f2cf",
   "metadata": {},
   "outputs": [
    {
     "data": {
      "text/plain": [
       "<module 'retrieval_utils' from 'c:\\\\Users\\\\ankum\\\\OneDrive\\\\Desktop\\\\vivado_rag\\\\retrieval_utils.py'>"
      ]
     },
     "execution_count": 19,
     "metadata": {},
     "output_type": "execute_result"
    }
   ],
   "source": [
    "import pymupdf4llm\n",
    "import pathlib\n",
    "from tqdm import tqdm\n",
    "from langchain.schema import Document\n",
    "import retrieval_utils\n",
    "from langchain.embeddings import HuggingFaceEmbeddings\n",
    "from langchain.vectorstores import FAISS\n",
    "\n",
    "import importlib\n",
    "importlib.reload(retrieval_utils)"
   ]
  },
  {
   "cell_type": "markdown",
   "id": "84e33911",
   "metadata": {},
   "source": [
    "# Retrieving Chunks"
   ]
  },
  {
   "cell_type": "code",
   "execution_count": 2,
   "id": "d1d2aeff",
   "metadata": {},
   "outputs": [
    {
     "name": "stderr",
     "output_type": "stream",
     "text": [
      "C:\\Users\\ankum\\AppData\\Local\\Temp\\ipykernel_12704\\3598431607.py:1: LangChainDeprecationWarning: The class `HuggingFaceEmbeddings` was deprecated in LangChain 0.2.2 and will be removed in 1.0. An updated version of the class exists in the :class:`~langchain-huggingface package and should be used instead. To use it run `pip install -U :class:`~langchain-huggingface` and import as `from :class:`~langchain_huggingface import HuggingFaceEmbeddings``.\n",
      "  embeddings = HuggingFaceEmbeddings(model_name=\"sentence-transformers/all-MiniLM-L6-v2\")\n"
     ]
    },
    {
     "name": "stdout",
     "output_type": "stream",
     "text": [
      "Total chunks in FAISS index: 1119\n"
     ]
    }
   ],
   "source": [
    "embeddings = HuggingFaceEmbeddings(model_name=\"sentence-transformers/all-MiniLM-L6-v2\")\n",
    "vectorstore = FAISS.load_local(\"faiss_index\", embeddings, allow_dangerous_deserialization = True)\n",
    "print(\"Total chunks in FAISS index:\", vectorstore.index.ntotal)"
   ]
  },
  {
   "cell_type": "code",
   "execution_count": 21,
   "id": "b9d2a9ef",
   "metadata": {},
   "outputs": [
    {
     "name": "stdout",
     "output_type": "stream",
     "text": [
      "Loaded 10 questions\n"
     ]
    }
   ],
   "source": [
    "question_page_pairs = retrieval_utils.load_questions_from_csv(\"vivado_rag_question_bank.csv\")\n",
    "print(f\"Loaded {len(question_page_pairs)} questions\")"
   ]
  },
  {
   "cell_type": "code",
   "execution_count": 22,
   "id": "09a13ec0",
   "metadata": {},
   "outputs": [
    {
     "data": {
      "text/plain": [
       "['How can I add enumerations using TCL commands?',\n",
       " 'What key settings can I use when generating an encrypted bitstream?',\n",
       " 'I need to both watch a signal’s value in the Waveform window and use that same signal to kick off a capture. What probe type should I pick?',\n",
       " 'How can I create a custom debug probe on an ILA core in the Vivado Hardware Manager?',\n",
       " 'I need to both validate and optimize my FPGA’s high-speed serial links in-system and, at the same time, issue AXI reads and writes over JTAG without a processor.',\n",
       " 'Can I get some information on how to do serial I/O hardware debugging in Vivado?',\n",
       " 'I’d like to script an IBERT eye-scan on my KC705 board using Vivado’s Tcl interface',\n",
       " 'When I enable Auto Re-trigger on an ILA core, I notice I sometimes miss signal cycles between captures. How can I fix that?',\n",
       " 'How do I add probes from my ILA core into the Waveform window?',\n",
       " 'How can I read on-chip temperature data at run time?']"
      ]
     },
     "execution_count": 22,
     "metadata": {},
     "output_type": "execute_result"
    }
   ],
   "source": [
    "[qpp[0] for qpp in question_page_pairs]"
   ]
  },
  {
   "cell_type": "markdown",
   "id": "69d13bdb",
   "metadata": {},
   "source": [
    "# Retrieval Tests"
   ]
  },
  {
   "cell_type": "code",
   "execution_count": 29,
   "id": "e067339f",
   "metadata": {},
   "outputs": [
    {
     "name": "stdout",
     "output_type": "stream",
     "text": [
      "Question: How can I add enumerations using TCL commands?\n",
      "Retrieved pages: [308, 309, 245, 214, 215]\n",
      "Actual pages:    [214]\n",
      "----------------------------------------\n",
      "Question: What key settings can I use when generating an encrypted bitstream?\n",
      "Retrieved pages: [80, 81, 82]\n",
      "Actual pages:    [82]\n",
      "----------------------------------------\n",
      "Question: I need to both watch a signal’s value in the Waveform window and use that same signal to kick off a capture. What probe type should I pick?\n",
      "Retrieved pages: [259, 142, 211, 185, 190]\n",
      "Actual pages:    [142]\n",
      "----------------------------------------\n",
      "Question: How can I create a custom debug probe on an ILA core in the Vivado Hardware Manager?\n",
      "Retrieved pages: [184, 131, 180, 183]\n",
      "Actual pages:    [184]\n",
      "----------------------------------------\n",
      "Question: I need to both validate and optimize my FPGA’s high-speed serial links in-system and, at the same time, issue AXI reads and writes over JTAG without a processor.\n",
      "Retrieved pages: [11, 147, 237, 238]\n",
      "Actual pages:    [10, 11]\n",
      "----------------------------------------\n",
      "Question: Can I get some information on how to do serial I/O hardware debugging in Vivado?\n",
      "Retrieved pages: [288, 17, 11, 125]\n",
      "Actual pages:    [288]\n",
      "----------------------------------------\n",
      "Question: I’d like to script an IBERT eye-scan on my KC705 board using Vivado’s Tcl interface\n",
      "Retrieved pages: [290, 291, 13, 310, 246]\n",
      "Actual pages:    [310]\n",
      "----------------------------------------\n",
      "Question: When I enable Auto Re-trigger on an ILA core, I notice I sometimes miss signal cycles between captures. How can I fix that?\n",
      "Retrieved pages: [261, 202, 203, 204, 207]\n",
      "Actual pages:    [203]\n",
      "----------------------------------------\n",
      "Question: How do I add probes from my ILA core into the Waveform window?\n",
      "Retrieved pages: [257, 259, 260, 177, 179]\n",
      "Actual pages:    [260]\n",
      "----------------------------------------\n",
      "Question: How can I read on-chip temperature data at run time?\n",
      "Retrieved pages: [105, 250, 251, 252]\n",
      "Actual pages:    [104]\n",
      "----------------------------------------\n"
     ]
    }
   ],
   "source": [
    "# k = 5 gives 85% recall\n",
    "for question, actual_pages in question_page_pairs:\n",
    "    docs = vectorstore.similarity_search(question, k = 5)\n",
    "    # extract their page numbers\n",
    "    retrieved_pages = [doc.metadata[\"page_number\"] for doc in docs]\n",
    "    print(\"Question:\", question)\n",
    "    print(\"Retrieved pages:\", list(set(retrieved_pages)))\n",
    "    print(\"Actual pages:   \", actual_pages)\n",
    "    print(\"-\" * 40)"
   ]
  },
  {
   "cell_type": "code",
   "execution_count": 30,
   "id": "e8173d02",
   "metadata": {},
   "outputs": [
    {
     "name": "stdout",
     "output_type": "stream",
     "text": [
      "Question: How can I add enumerations using TCL commands?\n",
      "Retrieved pages: [210, 242, 308, 309, 245, 214, 246, 180, 215, 219]\n",
      "Actual pages:    [214]\n",
      "----------------------------------------\n",
      "Question: What key settings can I use when generating an encrypted bitstream?\n",
      "Retrieved pages: [77, 79, 80, 81, 82, 83, 24]\n",
      "Actual pages:    [82]\n",
      "----------------------------------------\n",
      "Question: I need to both watch a signal’s value in the Waveform window and use that same signal to kick off a capture. What probe type should I pick?\n",
      "Retrieved pages: [259, 260, 198, 142, 211, 183, 185, 190]\n",
      "Actual pages:    [142]\n",
      "----------------------------------------\n",
      "Question: How can I create a custom debug probe on an ILA core in the Vivado Hardware Manager?\n",
      "Retrieved pages: [131, 165, 166, 179, 180, 277, 183, 184]\n",
      "Actual pages:    [184]\n",
      "----------------------------------------\n",
      "Question: I need to both validate and optimize my FPGA’s high-speed serial links in-system and, at the same time, issue AXI reads and writes over JTAG without a processor.\n",
      "Retrieved pages: [166, 167, 11, 237, 238, 240, 147]\n",
      "Actual pages:    [10, 11]\n",
      "----------------------------------------\n",
      "Question: Can I get some information on how to do serial I/O hardware debugging in Vivado?\n",
      "Retrieved pages: [288, 11, 17, 22, 248, 125, 126]\n",
      "Actual pages:    [288]\n",
      "----------------------------------------\n",
      "Question: I’d like to script an IBERT eye-scan on my KC705 board using Vivado’s Tcl interface\n",
      "Retrieved pages: [290, 291, 11, 13, 245, 310, 246, 29]\n",
      "Actual pages:    [310]\n",
      "----------------------------------------\n",
      "Question: When I enable Auto Re-trigger on an ILA core, I notice I sometimes miss signal cycles between captures. How can I fix that?\n",
      "Retrieved pages: [261, 201, 202, 203, 204, 207, 248]\n",
      "Actual pages:    [203]\n",
      "----------------------------------------\n",
      "Question: How do I add probes from my ILA core into the Waveform window?\n",
      "Retrieved pages: [257, 259, 260, 169, 206, 177, 210, 179, 180, 183]\n",
      "Actual pages:    [260]\n",
      "----------------------------------------\n",
      "Question: How can I read on-chip temperature data at run time?\n",
      "Retrieved pages: [105, 75, 250, 251, 252, 255]\n",
      "Actual pages:    [104]\n",
      "----------------------------------------\n"
     ]
    }
   ],
   "source": [
    "# k = 10 gives 85% recall also\n",
    "for question, actual_pages in question_page_pairs:\n",
    "    docs = vectorstore.similarity_search(question, k = 10)\n",
    "    # extract their page numbers\n",
    "    retrieved_pages = [doc.metadata[\"page_number\"] for doc in docs]\n",
    "    print(\"Question:\", question)\n",
    "    print(\"Retrieved pages:\", list(set(retrieved_pages)))\n",
    "    print(\"Actual pages:   \", actual_pages)\n",
    "    print(\"-\" * 40)"
   ]
  },
  {
   "cell_type": "code",
   "execution_count": 35,
   "id": "a042a66a",
   "metadata": {},
   "outputs": [
    {
     "name": "stdout",
     "output_type": "stream",
     "text": [
      "Question: How can I add enumerations using TCL commands?\n",
      "Retrieved pages: [211, 210, 242, 308, 309, 245, 214, 246, 180, 215, 219, 244]\n",
      "Actual pages:    [214]\n",
      "----------------------------------------\n",
      "Question: What key settings can I use when generating an encrypted bitstream?\n",
      "Retrieved pages: [77, 79, 80, 81, 82, 83, 24, 27]\n",
      "Actual pages:    [82]\n",
      "----------------------------------------\n",
      "Question: I need to both watch a signal’s value in the Waveform window and use that same signal to kick off a capture. What probe type should I pick?\n",
      "Retrieved pages: [259, 260, 198, 142, 211, 183, 185, 190]\n",
      "Actual pages:    [142]\n",
      "----------------------------------------\n",
      "Question: How can I create a custom debug probe on an ILA core in the Vivado Hardware Manager?\n",
      "Retrieved pages: [131, 165, 166, 12, 179, 180, 277, 183, 184, 155]\n",
      "Actual pages:    [184]\n",
      "----------------------------------------\n",
      "Question: I need to both validate and optimize my FPGA’s high-speed serial links in-system and, at the same time, issue AXI reads and writes over JTAG without a processor.\n",
      "Retrieved pages: [166, 167, 10, 11, 237, 238, 240, 147, 245]\n",
      "Actual pages:    [10, 11]\n",
      "----------------------------------------\n",
      "Question: Can I get some information on how to do serial I/O hardware debugging in Vivado?\n",
      "Retrieved pages: [288, 166, 11, 17, 22, 157, 248, 125, 126]\n",
      "Actual pages:    [288]\n",
      "----------------------------------------\n",
      "Question: I’d like to script an IBERT eye-scan on my KC705 board using Vivado’s Tcl interface\n",
      "Retrieved pages: [290, 291, 11, 13, 245, 310, 246, 22, 29]\n",
      "Actual pages:    [310]\n",
      "----------------------------------------\n",
      "Question: When I enable Auto Re-trigger on an ILA core, I notice I sometimes miss signal cycles between captures. How can I fix that?\n",
      "Retrieved pages: [261, 201, 202, 203, 204, 207, 183, 248]\n",
      "Actual pages:    [203]\n",
      "----------------------------------------\n",
      "Question: How do I add probes from my ILA core into the Waveform window?\n",
      "Retrieved pages: [257, 259, 260, 169, 206, 177, 210, 179, 180, 209, 183]\n",
      "Actual pages:    [260]\n",
      "----------------------------------------\n",
      "Question: How can I read on-chip temperature data at run time?\n",
      "Retrieved pages: [105, 75, 307, 250, 251, 252, 255]\n",
      "Actual pages:    [104]\n",
      "----------------------------------------\n"
     ]
    }
   ],
   "source": [
    "# k = 12 gives 90% recall also\n",
    "for question, actual_pages in question_page_pairs:\n",
    "    docs = vectorstore.similarity_search(question, k = 12)\n",
    "    # extract their page numbers\n",
    "    retrieved_pages = [doc.metadata[\"page_number\"] for doc in docs]\n",
    "    print(\"Question:\", question)\n",
    "    print(\"Retrieved pages:\", list(set(retrieved_pages)))\n",
    "    print(\"Actual pages:   \", actual_pages)\n",
    "    print(\"-\" * 40)"
   ]
  }
 ],
 "metadata": {
  "kernelspec": {
   "display_name": "Python 3",
   "language": "python",
   "name": "python3"
  },
  "language_info": {
   "codemirror_mode": {
    "name": "ipython",
    "version": 3
   },
   "file_extension": ".py",
   "mimetype": "text/x-python",
   "name": "python",
   "nbconvert_exporter": "python",
   "pygments_lexer": "ipython3",
   "version": "3.10.4"
  }
 },
 "nbformat": 4,
 "nbformat_minor": 5
}
