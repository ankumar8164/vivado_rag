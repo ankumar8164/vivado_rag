{
 "cells": [
  {
   "cell_type": "markdown",
   "id": "1889a1b8",
   "metadata": {},
   "source": [
    "# Setup"
   ]
  },
  {
   "cell_type": "code",
   "execution_count": 5,
   "id": "72c0a931",
   "metadata": {},
   "outputs": [],
   "source": [
    "import pymupdf4llm\n",
    "import pathlib"
   ]
  },
  {
   "cell_type": "markdown",
   "id": "7765ea0d",
   "metadata": {},
   "source": [
    "# Exploration using General PyMuPDF4LLM Methods"
   ]
  },
  {
   "cell_type": "code",
   "execution_count": 6,
   "id": "113f02a8",
   "metadata": {},
   "outputs": [],
   "source": [
    "vivado_documentation_md = pymupdf4llm.to_markdown(\"vivado_documentation.pdf\")"
   ]
  },
  {
   "cell_type": "code",
   "execution_count": 9,
   "id": "1cb38886",
   "metadata": {},
   "outputs": [
    {
     "data": {
      "text/plain": [
       "869140"
      ]
     },
     "execution_count": 9,
     "metadata": {},
     "output_type": "execute_result"
    }
   ],
   "source": [
    "pathlib.Path(\"markdown_files/vivado_documentation.md\").write_bytes(vivado_documentation_md.encode())"
   ]
  },
  {
   "cell_type": "markdown",
   "id": "b2449595",
   "metadata": {},
   "source": [
    "# Exploration using PyMuPDF4LLM + LlamaIndex"
   ]
  },
  {
   "cell_type": "code",
   "execution_count": 10,
   "id": "97f4f626",
   "metadata": {},
   "outputs": [
    {
     "name": "stdout",
     "output_type": "stream",
     "text": [
      "Successfully imported LlamaIndex\n"
     ]
    }
   ],
   "source": [
    "md_read = pymupdf4llm.LlamaMarkdownReader()\n",
    "vivado_documentation_llama = md_read.load_data(\"vivado_documentation.pdf\")"
   ]
  },
  {
   "cell_type": "code",
   "execution_count": 12,
   "id": "3588034e",
   "metadata": {},
   "outputs": [
    {
     "name": "stdout",
     "output_type": "stream",
     "text": [
      "*Chapter 1:* Introduction\n",
      "\n",
      "     - Appendix D: JTAG Cables and Devices Supported by hw_server\n",
      "\n",
      "    Appendix F: Configuration Memory Support\n",
      "### **Getting Started**\n",
      "\n",
      "After successfully implementing your design, the next step is to run it in hardware by\n",
      "programming the FPGA or ACAP and debugging the design in-system. All of the necessary\n",
      "commands to perform programming of FPGAs and in-system debugging of the design are in the\n",
      "**Program and Debug** section of the **Flow Navigator** in the Vivado [®] Integrated Design\n",
      "Environment (IDE) (see the following figure).\n",
      "\n",
      "*Figure 1:* **Program and Debug Section of the Flow Navigator Panel**\n",
      "\n",
      "UG908 (v2022.1) April 26, 2022 [www.xilinx.com](https://www.xilinx.com)\n",
      "[Send Feedback](https://www.xilinx.com/about/feedback/document-feedback.html?docType=User_Guides&docId=UG908&Title=%20Vivado%20Design%20Suite%20User%20Guide&releaseVersion=2022.1&docPage=9)\n",
      "Vivado Design Suite User Guide: Programming and Debugging 9\n",
      "\n",
      "\n",
      "-----\n"
     ]
    }
   ],
   "source": [
    "# page 9 (index 8) has text + images so is challenging\n",
    "print(vivado_documentation_llama[8].to_dict()['text'])"
   ]
  }
 ],
 "metadata": {
  "kernelspec": {
   "display_name": "Python 3",
   "language": "python",
   "name": "python3"
  },
  "language_info": {
   "codemirror_mode": {
    "name": "ipython",
    "version": 3
   },
   "file_extension": ".py",
   "mimetype": "text/x-python",
   "name": "python",
   "nbconvert_exporter": "python",
   "pygments_lexer": "ipython3",
   "version": "3.10.4"
  }
 },
 "nbformat": 4,
 "nbformat_minor": 5
}
