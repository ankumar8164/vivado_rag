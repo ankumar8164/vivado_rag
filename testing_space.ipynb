{
 "cells": [
  {
   "cell_type": "markdown",
   "id": "1889a1b8",
   "metadata": {},
   "source": [
    "# Setup"
   ]
  },
  {
   "cell_type": "code",
   "execution_count": 11,
   "id": "72c0a931",
   "metadata": {},
   "outputs": [
    {
     "name": "stdout",
     "output_type": "stream",
     "text": [
      "Defaulting to user installation because normal site-packages is not writeable\n",
      "Requirement already satisfied: pip in c:\\users\\ankum\\appdata\\roaming\\python\\python310\\site-packages (25.1.1)\n",
      "Note: you may need to restart the kernel to use updated packages.\n",
      "Defaulting to user installation because normal site-packages is not writeable\n",
      "Requirement already satisfied: langchain in c:\\users\\ankum\\appdata\\roaming\\python\\python310\\site-packages (0.3.25)\n",
      "Requirement already satisfied: langchain-community in c:\\users\\ankum\\appdata\\roaming\\python\\python310\\site-packages (0.3.24)\n",
      "Requirement already satisfied: sentence-transformers in c:\\users\\ankum\\appdata\\roaming\\python\\python310\\site-packages (4.1.0)\n",
      "Requirement already satisfied: transformers in c:\\users\\ankum\\appdata\\roaming\\python\\python310\\site-packages (4.51.3)\n",
      "Requirement already satisfied: faiss-cpu in c:\\users\\ankum\\appdata\\roaming\\python\\python310\\site-packages (1.11.0)\n",
      "Requirement already satisfied: tiktoken in c:\\users\\ankum\\appdata\\roaming\\python\\python310\\site-packages (0.9.0)\n",
      "Requirement already satisfied: langchain-core<1.0.0,>=0.3.58 in c:\\users\\ankum\\appdata\\roaming\\python\\python310\\site-packages (from langchain) (0.3.59)\n",
      "Requirement already satisfied: langchain-text-splitters<1.0.0,>=0.3.8 in c:\\users\\ankum\\appdata\\roaming\\python\\python310\\site-packages (from langchain) (0.3.8)\n",
      "Requirement already satisfied: langsmith<0.4,>=0.1.17 in c:\\users\\ankum\\appdata\\roaming\\python\\python310\\site-packages (from langchain) (0.3.42)\n",
      "Requirement already satisfied: pydantic<3.0.0,>=2.7.4 in c:\\users\\ankum\\appdata\\roaming\\python\\python310\\site-packages (from langchain) (2.10.6)\n",
      "Requirement already satisfied: SQLAlchemy<3,>=1.4 in c:\\users\\ankum\\appdata\\roaming\\python\\python310\\site-packages (from langchain) (2.0.38)\n",
      "Requirement already satisfied: requests<3,>=2 in c:\\users\\ankum\\appdata\\roaming\\python\\python310\\site-packages (from langchain) (2.32.3)\n",
      "Requirement already satisfied: PyYAML>=5.3 in c:\\users\\ankum\\appdata\\roaming\\python\\python310\\site-packages (from langchain) (6.0.2)\n",
      "Requirement already satisfied: async-timeout<5.0.0,>=4.0.0 in c:\\users\\ankum\\appdata\\roaming\\python\\python310\\site-packages (from langchain) (4.0.2)\n",
      "Requirement already satisfied: tenacity!=8.4.0,<10.0.0,>=8.1.0 in c:\\users\\ankum\\appdata\\roaming\\python\\python310\\site-packages (from langchain-core<1.0.0,>=0.3.58->langchain) (9.0.0)\n",
      "Requirement already satisfied: jsonpatch<2.0,>=1.33 in c:\\users\\ankum\\appdata\\roaming\\python\\python310\\site-packages (from langchain-core<1.0.0,>=0.3.58->langchain) (1.33)\n",
      "Requirement already satisfied: packaging<25,>=23.2 in c:\\users\\ankum\\appdata\\roaming\\python\\python310\\site-packages (from langchain-core<1.0.0,>=0.3.58->langchain) (24.2)\n",
      "Requirement already satisfied: typing-extensions>=4.7 in c:\\users\\ankum\\appdata\\roaming\\python\\python310\\site-packages (from langchain-core<1.0.0,>=0.3.58->langchain) (4.12.2)\n",
      "Requirement already satisfied: jsonpointer>=1.9 in c:\\users\\ankum\\appdata\\roaming\\python\\python310\\site-packages (from jsonpatch<2.0,>=1.33->langchain-core<1.0.0,>=0.3.58->langchain) (2.3)\n",
      "Requirement already satisfied: httpx<1,>=0.23.0 in c:\\users\\ankum\\appdata\\roaming\\python\\python310\\site-packages (from langsmith<0.4,>=0.1.17->langchain) (0.28.1)\n",
      "Requirement already satisfied: orjson<4.0.0,>=3.9.14 in c:\\users\\ankum\\appdata\\roaming\\python\\python310\\site-packages (from langsmith<0.4,>=0.1.17->langchain) (3.10.18)\n",
      "Requirement already satisfied: requests-toolbelt<2.0.0,>=1.0.0 in c:\\users\\ankum\\appdata\\roaming\\python\\python310\\site-packages (from langsmith<0.4,>=0.1.17->langchain) (1.0.0)\n",
      "Requirement already satisfied: zstandard<0.24.0,>=0.23.0 in c:\\users\\ankum\\appdata\\roaming\\python\\python310\\site-packages (from langsmith<0.4,>=0.1.17->langchain) (0.23.0)\n",
      "Requirement already satisfied: anyio in c:\\users\\ankum\\appdata\\roaming\\python\\python310\\site-packages (from httpx<1,>=0.23.0->langsmith<0.4,>=0.1.17->langchain) (3.6.2)\n",
      "Requirement already satisfied: certifi in c:\\users\\ankum\\appdata\\roaming\\python\\python310\\site-packages (from httpx<1,>=0.23.0->langsmith<0.4,>=0.1.17->langchain) (2024.12.14)\n",
      "Requirement already satisfied: httpcore==1.* in c:\\users\\ankum\\appdata\\roaming\\python\\python310\\site-packages (from httpx<1,>=0.23.0->langsmith<0.4,>=0.1.17->langchain) (1.0.7)\n",
      "Requirement already satisfied: idna in c:\\users\\ankum\\appdata\\roaming\\python\\python310\\site-packages (from httpx<1,>=0.23.0->langsmith<0.4,>=0.1.17->langchain) (3.3)\n",
      "Requirement already satisfied: h11<0.15,>=0.13 in c:\\users\\ankum\\appdata\\roaming\\python\\python310\\site-packages (from httpcore==1.*->httpx<1,>=0.23.0->langsmith<0.4,>=0.1.17->langchain) (0.14.0)\n",
      "Requirement already satisfied: annotated-types>=0.6.0 in c:\\users\\ankum\\appdata\\roaming\\python\\python310\\site-packages (from pydantic<3.0.0,>=2.7.4->langchain) (0.7.0)\n",
      "Requirement already satisfied: pydantic-core==2.27.2 in c:\\users\\ankum\\appdata\\roaming\\python\\python310\\site-packages (from pydantic<3.0.0,>=2.7.4->langchain) (2.27.2)\n",
      "Requirement already satisfied: charset-normalizer<4,>=2 in c:\\users\\ankum\\appdata\\roaming\\python\\python310\\site-packages (from requests<3,>=2->langchain) (2.0.12)\n",
      "Requirement already satisfied: urllib3<3,>=1.21.1 in c:\\users\\ankum\\appdata\\roaming\\python\\python310\\site-packages (from requests<3,>=2->langchain) (1.26.9)\n",
      "Requirement already satisfied: greenlet!=0.4.17 in c:\\users\\ankum\\appdata\\roaming\\python\\python310\\site-packages (from SQLAlchemy<3,>=1.4->langchain) (3.1.1)\n",
      "Requirement already satisfied: aiohttp<4.0.0,>=3.8.3 in c:\\users\\ankum\\appdata\\roaming\\python\\python310\\site-packages (from langchain-community) (3.11.12)\n",
      "Requirement already satisfied: dataclasses-json<0.7,>=0.5.7 in c:\\users\\ankum\\appdata\\roaming\\python\\python310\\site-packages (from langchain-community) (0.6.7)\n",
      "Requirement already satisfied: pydantic-settings<3.0.0,>=2.4.0 in c:\\users\\ankum\\appdata\\roaming\\python\\python310\\site-packages (from langchain-community) (2.9.1)\n",
      "Requirement already satisfied: httpx-sse<1.0.0,>=0.4.0 in c:\\users\\ankum\\appdata\\roaming\\python\\python310\\site-packages (from langchain-community) (0.4.0)\n",
      "Requirement already satisfied: numpy>=1.26.2 in c:\\users\\ankum\\appdata\\roaming\\python\\python310\\site-packages (from langchain-community) (1.26.4)\n",
      "Requirement already satisfied: aiohappyeyeballs>=2.3.0 in c:\\users\\ankum\\appdata\\roaming\\python\\python310\\site-packages (from aiohttp<4.0.0,>=3.8.3->langchain-community) (2.4.6)\n",
      "Requirement already satisfied: aiosignal>=1.1.2 in c:\\users\\ankum\\appdata\\roaming\\python\\python310\\site-packages (from aiohttp<4.0.0,>=3.8.3->langchain-community) (1.2.0)\n",
      "Requirement already satisfied: attrs>=17.3.0 in c:\\users\\ankum\\appdata\\roaming\\python\\python310\\site-packages (from aiohttp<4.0.0,>=3.8.3->langchain-community) (21.4.0)\n",
      "Requirement already satisfied: frozenlist>=1.1.1 in c:\\users\\ankum\\appdata\\roaming\\python\\python310\\site-packages (from aiohttp<4.0.0,>=3.8.3->langchain-community) (1.3.1)\n",
      "Requirement already satisfied: multidict<7.0,>=4.5 in c:\\users\\ankum\\appdata\\roaming\\python\\python310\\site-packages (from aiohttp<4.0.0,>=3.8.3->langchain-community) (6.0.2)\n",
      "Requirement already satisfied: propcache>=0.2.0 in c:\\users\\ankum\\appdata\\roaming\\python\\python310\\site-packages (from aiohttp<4.0.0,>=3.8.3->langchain-community) (0.2.1)\n",
      "Requirement already satisfied: yarl<2.0,>=1.17.0 in c:\\users\\ankum\\appdata\\roaming\\python\\python310\\site-packages (from aiohttp<4.0.0,>=3.8.3->langchain-community) (1.18.3)\n",
      "Requirement already satisfied: marshmallow<4.0.0,>=3.18.0 in c:\\users\\ankum\\appdata\\roaming\\python\\python310\\site-packages (from dataclasses-json<0.7,>=0.5.7->langchain-community) (3.26.1)\n",
      "Requirement already satisfied: typing-inspect<1,>=0.4.0 in c:\\users\\ankum\\appdata\\roaming\\python\\python310\\site-packages (from dataclasses-json<0.7,>=0.5.7->langchain-community) (0.9.0)\n",
      "Requirement already satisfied: python-dotenv>=0.21.0 in c:\\users\\ankum\\appdata\\roaming\\python\\python310\\site-packages (from pydantic-settings<3.0.0,>=2.4.0->langchain-community) (1.0.1)\n",
      "Requirement already satisfied: typing-inspection>=0.4.0 in c:\\users\\ankum\\appdata\\roaming\\python\\python310\\site-packages (from pydantic-settings<3.0.0,>=2.4.0->langchain-community) (0.4.0)\n",
      "Requirement already satisfied: mypy-extensions>=0.3.0 in c:\\users\\ankum\\appdata\\roaming\\python\\python310\\site-packages (from typing-inspect<1,>=0.4.0->dataclasses-json<0.7,>=0.5.7->langchain-community) (1.0.0)\n",
      "Requirement already satisfied: tqdm in c:\\users\\ankum\\appdata\\roaming\\python\\python310\\site-packages (from sentence-transformers) (4.67.1)\n",
      "Requirement already satisfied: torch>=1.11.0 in c:\\users\\ankum\\appdata\\roaming\\python\\python310\\site-packages (from sentence-transformers) (1.13.1)\n",
      "Requirement already satisfied: scikit-learn in c:\\users\\ankum\\appdata\\roaming\\python\\python310\\site-packages (from sentence-transformers) (1.2.0)\n",
      "Requirement already satisfied: scipy in c:\\users\\ankum\\appdata\\roaming\\python\\python310\\site-packages (from sentence-transformers) (1.11.4)\n",
      "Requirement already satisfied: huggingface-hub>=0.20.0 in c:\\users\\ankum\\appdata\\roaming\\python\\python310\\site-packages (from sentence-transformers) (0.31.2)\n",
      "Requirement already satisfied: Pillow in c:\\users\\ankum\\appdata\\roaming\\python\\python310\\site-packages (from sentence-transformers) (10.2.0)\n",
      "Requirement already satisfied: filelock in c:\\users\\ankum\\appdata\\roaming\\python\\python310\\site-packages (from transformers) (3.9.0)\n",
      "Requirement already satisfied: regex!=2019.12.17 in c:\\users\\ankum\\appdata\\roaming\\python\\python310\\site-packages (from transformers) (2022.4.24)\n",
      "Requirement already satisfied: tokenizers<0.22,>=0.21 in c:\\users\\ankum\\appdata\\roaming\\python\\python310\\site-packages (from transformers) (0.21.1)\n",
      "Requirement already satisfied: safetensors>=0.4.3 in c:\\users\\ankum\\appdata\\roaming\\python\\python310\\site-packages (from transformers) (0.5.3)\n",
      "Requirement already satisfied: fsspec>=2023.5.0 in c:\\users\\ankum\\appdata\\roaming\\python\\python310\\site-packages (from huggingface-hub>=0.20.0->sentence-transformers) (2023.6.0)\n",
      "Requirement already satisfied: colorama in c:\\users\\ankum\\appdata\\roaming\\python\\python310\\site-packages (from tqdm->sentence-transformers) (0.4.6)\n",
      "Requirement already satisfied: sniffio>=1.1 in c:\\users\\ankum\\appdata\\roaming\\python\\python310\\site-packages (from anyio->httpx<1,>=0.23.0->langsmith<0.4,>=0.1.17->langchain) (1.3.0)\n",
      "Requirement already satisfied: joblib>=1.1.1 in c:\\users\\ankum\\appdata\\roaming\\python\\python310\\site-packages (from scikit-learn->sentence-transformers) (1.2.0)\n",
      "Requirement already satisfied: threadpoolctl>=2.0.0 in c:\\users\\ankum\\appdata\\roaming\\python\\python310\\site-packages (from scikit-learn->sentence-transformers) (3.1.0)\n",
      "Note: you may need to restart the kernel to use updated packages.\n",
      "Defaulting to user installation because normal site-packages is not writeable\n",
      "Looking in indexes: https://download.pytorch.org/whl/cpu\n",
      "Requirement already satisfied: torch in c:\\users\\ankum\\appdata\\roaming\\python\\python310\\site-packages (1.13.1)\n",
      "Collecting torch\n",
      "  Downloading https://download.pytorch.org/whl/cpu/torch-2.7.0%2Bcpu-cp310-cp310-win_amd64.whl.metadata (29 kB)\n",
      "Requirement already satisfied: torchvision in c:\\users\\ankum\\appdata\\roaming\\python\\python310\\site-packages (0.14.1)\n",
      "Collecting torchvision\n",
      "  Downloading https://download.pytorch.org/whl/cpu/torchvision-0.22.0%2Bcpu-cp310-cp310-win_amd64.whl.metadata (6.3 kB)\n",
      "Requirement already satisfied: torchaudio in c:\\users\\ankum\\appdata\\roaming\\python\\python310\\site-packages (0.13.1+cpu)\n",
      "Collecting torchaudio\n",
      "  Using cached https://download.pytorch.org/whl/cpu/torchaudio-2.7.0%2Bcpu-cp310-cp310-win_amd64.whl.metadata (6.7 kB)\n",
      "Requirement already satisfied: filelock in c:\\users\\ankum\\appdata\\roaming\\python\\python310\\site-packages (from torch) (3.9.0)\n",
      "Requirement already satisfied: typing-extensions>=4.10.0 in c:\\users\\ankum\\appdata\\roaming\\python\\python310\\site-packages (from torch) (4.12.2)\n",
      "Collecting sympy>=1.13.3 (from torch)\n",
      "  Downloading https://download.pytorch.org/whl/sympy-1.13.3-py3-none-any.whl.metadata (12 kB)\n",
      "Requirement already satisfied: networkx in c:\\users\\ankum\\appdata\\roaming\\python\\python310\\site-packages (from torch) (3.4.2)\n",
      "Requirement already satisfied: jinja2 in c:\\users\\ankum\\appdata\\roaming\\python\\python310\\site-packages (from torch) (3.1.2)\n",
      "Requirement already satisfied: fsspec in c:\\users\\ankum\\appdata\\roaming\\python\\python310\\site-packages (from torch) (2023.6.0)\n",
      "Requirement already satisfied: numpy in c:\\users\\ankum\\appdata\\roaming\\python\\python310\\site-packages (from torchvision) (1.26.4)\n",
      "Requirement already satisfied: pillow!=8.3.*,>=5.3.0 in c:\\users\\ankum\\appdata\\roaming\\python\\python310\\site-packages (from torchvision) (10.2.0)\n",
      "Requirement already satisfied: mpmath<1.4,>=1.1.0 in c:\\users\\ankum\\appdata\\roaming\\python\\python310\\site-packages (from sympy>=1.13.3->torch) (1.2.1)\n",
      "Requirement already satisfied: MarkupSafe>=2.0 in c:\\users\\ankum\\appdata\\roaming\\python\\python310\\site-packages (from jinja2->torch) (2.1.1)\n",
      "Downloading https://download.pytorch.org/whl/cpu/torch-2.7.0%2Bcpu-cp310-cp310-win_amd64.whl (215.2 MB)\n",
      "   --------------------------------------- 215.2/215.2 MB 33.8 MB/s eta 0:00:00\n",
      "Downloading https://download.pytorch.org/whl/cpu/torchvision-0.22.0%2Bcpu-cp310-cp310-win_amd64.whl (1.7 MB)\n",
      "   ---------------------------------------- 1.7/1.7 MB 30.8 MB/s eta 0:00:00\n",
      "Downloading https://download.pytorch.org/whl/cpu/torchaudio-2.7.0%2Bcpu-cp310-cp310-win_amd64.whl (2.5 MB)\n",
      "   ---------------------------------------- 2.5/2.5 MB 35.2 MB/s eta 0:00:00\n",
      "Downloading https://download.pytorch.org/whl/sympy-1.13.3-py3-none-any.whl (6.2 MB)\n",
      "   ---------------------------------------- 6.2/6.2 MB 38.0 MB/s eta 0:00:00\n",
      "Installing collected packages: sympy, torch, torchvision, torchaudio\n",
      "  Attempting uninstall: sympy\n",
      "    Found existing installation: sympy 1.10.1\n",
      "    Uninstalling sympy-1.10.1:\n",
      "      Successfully uninstalled sympy-1.10.1\n",
      "  Attempting uninstall: torch\n",
      "    Found existing installation: torch 1.13.1\n",
      "    Uninstalling torch-1.13.1:\n",
      "      Successfully uninstalled torch-1.13.1\n",
      "  Attempting uninstall: torchvision\n",
      "    Found existing installation: torchvision 0.14.1\n",
      "    Uninstalling torchvision-0.14.1:\n",
      "      Successfully uninstalled torchvision-0.14.1\n",
      "  Attempting uninstall: torchaudio\n",
      "    Found existing installation: torchaudio 0.13.1+cpu\n",
      "    Uninstalling torchaudio-0.13.1+cpu:\n",
      "      Successfully uninstalled torchaudio-0.13.1+cpu\n",
      "\n",
      "Successfully installed sympy-1.13.3 torch-2.7.0+cpu torchaudio-2.7.0+cpu torchvision-0.22.0+cpu\n",
      "Note: you may need to restart the kernel to use updated packages.\n"
     ]
    },
    {
     "name": "stderr",
     "output_type": "stream",
     "text": [
      "  WARNING: Failed to remove contents in a temporary directory 'C:\\Users\\ankum\\AppData\\Roaming\\Python\\Python310\\site-packages\\~orch'.\n",
      "  You can safely remove it manually.\n",
      "ERROR: pip's dependency resolver does not currently take into account all the packages that are installed. This behaviour is the source of the following dependency conflicts.\n",
      "pytorch-ignite 0.4.10 requires torch<2,>=1.3, but you have torch 2.7.0+cpu which is incompatible.\n"
     ]
    }
   ],
   "source": [
    "%pip install --upgrade pip\n",
    "%pip install --upgrade langchain langchain-community sentence-transformers transformers faiss-cpu tiktoken\n",
    "%pip install --upgrade torch torchvision torchaudio --index-url https://download.pytorch.org/whl/cpu"
   ]
  },
  {
   "cell_type": "code",
   "execution_count": 1,
   "id": "b3251580",
   "metadata": {},
   "outputs": [
    {
     "data": {
      "text/plain": [
       "<module 'chunking_utils' from 'c:\\\\Users\\\\ankum\\\\OneDrive\\\\Desktop\\\\vivado_rag\\\\chunking_utils.py'>"
      ]
     },
     "execution_count": 1,
     "metadata": {},
     "output_type": "execute_result"
    }
   ],
   "source": [
    "# import importlib\n",
    "import pymupdf4llm\n",
    "import pathlib\n",
    "from tqdm import tqdm\n",
    "from langchain.schema import Document\n",
    "import chunking_utils\n",
    "import langchain\n",
    "from langchain.embeddings import HuggingFaceEmbeddings\n",
    "from langchain.vectorstores import FAISS\n",
    "\n",
    "import importlib\n",
    "importlib.reload(chunking_utils)"
   ]
  },
  {
   "cell_type": "markdown",
   "id": "7765ea0d",
   "metadata": {},
   "source": [
    "# Exploration using General PyMuPDF4LLM Methods"
   ]
  },
  {
   "cell_type": "code",
   "execution_count": 6,
   "id": "113f02a8",
   "metadata": {},
   "outputs": [],
   "source": [
    "vivado_documentation_md = pymupdf4llm.to_markdown(\"vivado_documentation.pdf\")"
   ]
  },
  {
   "cell_type": "code",
   "execution_count": 9,
   "id": "1cb38886",
   "metadata": {},
   "outputs": [
    {
     "data": {
      "text/plain": [
       "869140"
      ]
     },
     "execution_count": 9,
     "metadata": {},
     "output_type": "execute_result"
    }
   ],
   "source": [
    "pathlib.Path(\"markdown_files/vivado_documentation.md\").write_bytes(vivado_documentation_md.encode())"
   ]
  },
  {
   "cell_type": "markdown",
   "id": "b2449595",
   "metadata": {},
   "source": [
    "# Exploration using PyMuPDF4LLM + LlamaIndex"
   ]
  },
  {
   "cell_type": "code",
   "execution_count": 2,
   "id": "97f4f626",
   "metadata": {},
   "outputs": [
    {
     "name": "stdout",
     "output_type": "stream",
     "text": [
      "Successfully imported LlamaIndex\n"
     ]
    }
   ],
   "source": [
    "md_read = pymupdf4llm.LlamaMarkdownReader()\n",
    "vivado_documentation_llama = md_read.load_data(\"vivado_documentation.pdf\")"
   ]
  },
  {
   "cell_type": "code",
   "execution_count": 3,
   "id": "3588034e",
   "metadata": {},
   "outputs": [
    {
     "name": "stdout",
     "output_type": "stream",
     "text": [
      "*Chapter 1:* Introduction\n",
      "\n",
      "     - Appendix D: JTAG Cables and Devices Supported by hw_server\n",
      "\n",
      "    Appendix F: Configuration Memory Support\n",
      "### **Getting Started**\n",
      "\n",
      "After successfully implementing your design, the next step is to run it in hardware by\n",
      "programming the FPGA or ACAP and debugging the design in-system. All of the necessary\n",
      "commands to perform programming of FPGAs and in-system debugging of the design are in the\n",
      "**Program and Debug** section of the **Flow Navigator** in the Vivado [®] Integrated Design\n",
      "Environment (IDE) (see the following figure).\n",
      "\n",
      "*Figure 1:* **Program and Debug Section of the Flow Navigator Panel**\n",
      "\n",
      "UG908 (v2022.1) April 26, 2022 [www.xilinx.com](https://www.xilinx.com)\n",
      "[Send Feedback](https://www.xilinx.com/about/feedback/document-feedback.html?docType=User_Guides&docId=UG908&Title=%20Vivado%20Design%20Suite%20User%20Guide&releaseVersion=2022.1&docPage=9)\n",
      "Vivado Design Suite User Guide: Programming and Debugging 9\n",
      "\n",
      "\n",
      "-----\n"
     ]
    }
   ],
   "source": [
    "# page 9 (index 8) has text + images so is challenging\n",
    "print(vivado_documentation_llama[8].to_dict()['text'])"
   ]
  },
  {
   "cell_type": "code",
   "execution_count": 4,
   "id": "9509df9c",
   "metadata": {},
   "outputs": [
    {
     "name": "stdout",
     "output_type": "stream",
     "text": [
      "*Chapter 1:* Introduction\n",
      "### **Debug Terminology**\n",
      "##### **ILA**\n",
      "\n",
      "The Integrated Logic Analyzer (ILA) feature allows you to perform in-system debugging of postimplemented designs on an FPGA, SoC, or Versal [®] device. This feature should be used when\n",
      "there is a need to monitor signals in the design. You can also use this feature to trigger on\n",
      "hardware events and capture data at system speeds.\n",
      "\n",
      "The ILA core can be instantiated in your RTL code or inserted post synthesis in the Vivado design\n",
      "flow. Detailed documentation on the ILA core IP can be found in the *Integrated Logic Analyzer*\n",
      "*LogiCORE IP Product Guide* [(PG172).](https://www.xilinx.com/cgi-bin/docs/ipdoc?c=ila;v=latest;d=pg172-ila.pdf)\n",
      "\n",
      "**Related Information**\n",
      "\n",
      "In-System Logic Design Debugging Flows\n",
      "\n",
      "Debugging Logic Designs in Hardware\n",
      "##### **VIO**\n",
      "\n",
      "The Virtual Input/Output (VIO) debug feature can both monitor and drive internal FPGA, SoC, or\n",
      "Versal ACAP signals in real time. In the absence of physical access to the target hardware, you\n",
      "can use this debug feature to drive and monitor signals that are present on the real hardware.\n",
      "\n",
      "This debug core needs to be instantiated in the RTL code, hence you need to know up-front,\n",
      "what nets to drive. The IP Catalog lists this core under the Debug category. Detailed\n",
      "documentation on the VIO core IP can be found in the *Virtual Input/Output LogiCORE IP Product*\n",
      "*Guide* [(PG159).](https://www.xilinx.com/cgi-bin/docs/ipdoc?c=vio;v=latest;d=pg159-vio.pdf)\n",
      "\n",
      "**Related Information**\n",
      "\n",
      "Debugging Logic Designs in Hardware\n",
      "##### **IBERT**\n",
      "\n",
      "The Integrated Bit Error Ratio Tester (IBERT) Serial Analyzer design enables in-system serial I/O\n",
      "validation and debug. This allows you to measure and optimize your high-speed serial I/O links in\n",
      "your FPGA-based system. Xilinx recommends using the IBERT Serial Analyzer design when you\n",
      "are interested in addressing a range of in-system debug and validation problems from simple\n",
      "clocking and connectivity issues to complex margin analysis and channel optimization issues.\n",
      "\n",
      "UG908 (v2022.1) April 26, 2022 [www.xilinx.com](https://www.xilinx.com)\n",
      "[Send Feedback](https://www.xilinx.com/about/feedback/document-feedback.html?docType=User_Guides&docId=UG908&Title=%20Vivado%20Design%20Suite%20User%20Guide&releaseVersion=2022.1&docPage=10)\n",
      "Vivado Design Suite User Guide: Programming and Debugging 10\n",
      "\n",
      "\n",
      "-----\n"
     ]
    }
   ],
   "source": [
    "# page 10 (index 9) for further exploration\n",
    "print(vivado_documentation_llama[9].to_dict()['text'])"
   ]
  },
  {
   "cell_type": "markdown",
   "id": "5576d6a7",
   "metadata": {},
   "source": [
    "# Creating Chunks"
   ]
  },
  {
   "cell_type": "code",
   "execution_count": 3,
   "id": "1ca0a9ab",
   "metadata": {},
   "outputs": [
    {
     "name": "stderr",
     "output_type": "stream",
     "text": [
      "100%|██████████| 350/350 [00:00<00:00, 7599.79it/s]"
     ]
    },
    {
     "name": "stdout",
     "output_type": "stream",
     "text": [
      "1119 chunks created\n",
      "There are 350 pages\n"
     ]
    },
    {
     "name": "stderr",
     "output_type": "stream",
     "text": [
      "\n"
     ]
    }
   ],
   "source": [
    "# starting from page 9 (index 8) till page 358 (index 357)\n",
    "# ignoring tables for now\n",
    "all_chunks = []\n",
    "all_pages = []\n",
    "start_index = 8\n",
    "end_index = 357\n",
    "for index in tqdm(range(start_index, end_index + 1)):\n",
    "    curr_page_number = index + 1\n",
    "    try:\n",
    "        curr_text = vivado_documentation_llama[index].to_dict()['text']\n",
    "        new_chunks = chunking_utils.chunk_markdown(curr_text)\n",
    "    except Exception as e:\n",
    "        print(f\"Skipping page {curr_page_number}: {e}\")\n",
    "        continue\n",
    "    \n",
    "    all_chunks.extend(new_chunks)\n",
    "    all_pages.extend([curr_page_number] * len(new_chunks))\n",
    "\n",
    "print(f\"{len(all_chunks)} chunks created\")\n",
    "print(f\"There are {len(set(all_pages))} pages\")"
   ]
  },
  {
   "cell_type": "code",
   "execution_count": 4,
   "id": "c2c66adf",
   "metadata": {},
   "outputs": [
    {
     "data": {
      "text/plain": [
       "(['- Appendix D: JTAG Cables and Devices Supported by hw_server\\n\\n    Appendix F: Configuration Memory Support',\n",
       "  'Appendix F: Configuration Memory Support\\n\\nAfter successfully implementing your design, the next step is to run it in hardware by\\nprogramming the FPGA or ACAP and debugging the design in-system. All of the necessary\\ncommands to perform programming of FPGAs and in-system debugging of the design are in the\\n**Program and Debug** section of the **Flow Navigator** in the Vivado [®] Integrated Design\\nEnvironment (IDE) (see the following figure).',\n",
       "  '*Figure 1:* **Program and Debug Section of the Flow Navigator Panel**',\n",
       "  'The Integrated Logic Analyzer (ILA) feature allows you to perform in-system debugging of postimplemented designs on an FPGA, SoC, or Versal [®] device. This feature should be used when\\nthere is a need to monitor signals in the design. You can also use this feature to trigger on\\nhardware events and capture data at system speeds.',\n",
       "  'The ILA core can be instantiated in your RTL code or inserted post synthesis in the Vivado design\\nflow. Detailed documentation on the ILA core IP can be found in the *Integrated Logic Analyzer*\\n*LogiCORE IP Product Guide* [(PG172).](https://www.xilinx.com/cgi-bin/docs/ipdoc?c=ila;v=latest;d=pg172-ila.pdf)\\n\\n\\nIn-System Logic Design Debugging Flows\\n\\nDebugging Logic Designs in Hardware'],\n",
       " [9, 9, 9, 10, 10])"
      ]
     },
     "execution_count": 4,
     "metadata": {},
     "output_type": "execute_result"
    }
   ],
   "source": [
    "# just to take a look at chunks\n",
    "(all_chunks[:5], all_pages[:5])"
   ]
  },
  {
   "cell_type": "code",
   "execution_count": 5,
   "id": "516d7a4b",
   "metadata": {},
   "outputs": [
    {
     "name": "stderr",
     "output_type": "stream",
     "text": [
      "C:\\Users\\ankum\\AppData\\Local\\Temp\\ipykernel_13968\\1637345565.py:6: LangChainDeprecationWarning: The class `HuggingFaceEmbeddings` was deprecated in LangChain 0.2.2 and will be removed in 1.0. An updated version of the class exists in the :class:`~langchain-huggingface package and should be used instead. To use it run `pip install -U :class:`~langchain-huggingface` and import as `from :class:`~langchain_huggingface import HuggingFaceEmbeddings``.\n",
      "  embeddings = HuggingFaceEmbeddings(model_name=\"sentence-transformers/all-MiniLM-L6-v2\")\n"
     ]
    },
    {
     "data": {
      "application/vnd.jupyter.widget-view+json": {
       "model_id": "d6a005f67d6b455fa1926d6461e2d7cf",
       "version_major": 2,
       "version_minor": 0
      },
      "text/plain": [
       "modules.json:   0%|          | 0.00/349 [00:00<?, ?B/s]"
      ]
     },
     "metadata": {},
     "output_type": "display_data"
    },
    {
     "name": "stderr",
     "output_type": "stream",
     "text": [
      "C:\\Users\\ankum\\AppData\\Roaming\\Python\\Python310\\site-packages\\huggingface_hub\\file_download.py:143: UserWarning: `huggingface_hub` cache-system uses symlinks by default to efficiently store duplicated files but your machine does not support them in C:\\Users\\ankum\\.cache\\huggingface\\hub\\models--sentence-transformers--all-MiniLM-L6-v2. Caching files will still work but in a degraded version that might require more space on your disk. This warning can be disabled by setting the `HF_HUB_DISABLE_SYMLINKS_WARNING` environment variable. For more details, see https://huggingface.co/docs/huggingface_hub/how-to-cache#limitations.\n",
      "To support symlinks on Windows, you either need to activate Developer Mode or to run Python as an administrator. In order to activate developer mode, see this article: https://docs.microsoft.com/en-us/windows/apps/get-started/enable-your-device-for-development\n",
      "  warnings.warn(message)\n"
     ]
    },
    {
     "data": {
      "application/vnd.jupyter.widget-view+json": {
       "model_id": "2ca150df68b742d6aec3a06b46537a17",
       "version_major": 2,
       "version_minor": 0
      },
      "text/plain": [
       "config_sentence_transformers.json:   0%|          | 0.00/116 [00:00<?, ?B/s]"
      ]
     },
     "metadata": {},
     "output_type": "display_data"
    },
    {
     "data": {
      "application/vnd.jupyter.widget-view+json": {
       "model_id": "b6623f82f7cd4ff1b476be6694b00ab0",
       "version_major": 2,
       "version_minor": 0
      },
      "text/plain": [
       "README.md:   0%|          | 0.00/10.5k [00:00<?, ?B/s]"
      ]
     },
     "metadata": {},
     "output_type": "display_data"
    },
    {
     "data": {
      "application/vnd.jupyter.widget-view+json": {
       "model_id": "ce7136d94d43484e9b084e0723e5e0bb",
       "version_major": 2,
       "version_minor": 0
      },
      "text/plain": [
       "sentence_bert_config.json:   0%|          | 0.00/53.0 [00:00<?, ?B/s]"
      ]
     },
     "metadata": {},
     "output_type": "display_data"
    },
    {
     "data": {
      "application/vnd.jupyter.widget-view+json": {
       "model_id": "e72d3223ab8a4362882a950169a7d4ed",
       "version_major": 2,
       "version_minor": 0
      },
      "text/plain": [
       "config.json:   0%|          | 0.00/612 [00:00<?, ?B/s]"
      ]
     },
     "metadata": {},
     "output_type": "display_data"
    },
    {
     "name": "stderr",
     "output_type": "stream",
     "text": [
      "Xet Storage is enabled for this repo, but the 'hf_xet' package is not installed. Falling back to regular HTTP download. For better performance, install the package with: `pip install huggingface_hub[hf_xet]` or `pip install hf_xet`\n"
     ]
    },
    {
     "data": {
      "application/vnd.jupyter.widget-view+json": {
       "model_id": "c0b09620b8064b278bb18cf3ba68d801",
       "version_major": 2,
       "version_minor": 0
      },
      "text/plain": [
       "model.safetensors:   0%|          | 0.00/90.9M [00:00<?, ?B/s]"
      ]
     },
     "metadata": {},
     "output_type": "display_data"
    },
    {
     "data": {
      "application/vnd.jupyter.widget-view+json": {
       "model_id": "3ea95ba19fa64e6d9301ce0a60db05a9",
       "version_major": 2,
       "version_minor": 0
      },
      "text/plain": [
       "tokenizer_config.json:   0%|          | 0.00/350 [00:00<?, ?B/s]"
      ]
     },
     "metadata": {},
     "output_type": "display_data"
    },
    {
     "data": {
      "application/vnd.jupyter.widget-view+json": {
       "model_id": "918d1769f6ed4c72bfcefc9e5179f2e4",
       "version_major": 2,
       "version_minor": 0
      },
      "text/plain": [
       "vocab.txt:   0%|          | 0.00/232k [00:00<?, ?B/s]"
      ]
     },
     "metadata": {},
     "output_type": "display_data"
    },
    {
     "data": {
      "application/vnd.jupyter.widget-view+json": {
       "model_id": "444f1a43924248779c7678b74e5e8aee",
       "version_major": 2,
       "version_minor": 0
      },
      "text/plain": [
       "tokenizer.json:   0%|          | 0.00/466k [00:00<?, ?B/s]"
      ]
     },
     "metadata": {},
     "output_type": "display_data"
    },
    {
     "data": {
      "application/vnd.jupyter.widget-view+json": {
       "model_id": "69aa18a5a21445da8411c607962ac840",
       "version_major": 2,
       "version_minor": 0
      },
      "text/plain": [
       "special_tokens_map.json:   0%|          | 0.00/112 [00:00<?, ?B/s]"
      ]
     },
     "metadata": {},
     "output_type": "display_data"
    },
    {
     "data": {
      "application/vnd.jupyter.widget-view+json": {
       "model_id": "af8a23b3cea7421491c869477f841ee5",
       "version_major": 2,
       "version_minor": 0
      },
      "text/plain": [
       "config.json:   0%|          | 0.00/190 [00:00<?, ?B/s]"
      ]
     },
     "metadata": {},
     "output_type": "display_data"
    }
   ],
   "source": [
    "# create embedding and store into FAISS\n",
    "all_docs = []\n",
    "for ind, chunk in enumerate(all_chunks):\n",
    "    page_num = all_pages[ind]\n",
    "    all_docs.append(Document(page_content = chunk, metadata = {\"page_number\" : page_num}))\n",
    "embeddings = HuggingFaceEmbeddings(model_name=\"sentence-transformers/all-MiniLM-L6-v2\")\n",
    "vectorstore = FAISS.from_documents(all_docs, embeddings)\n",
    "vectorstore.save_local(\"faiss_index\")"
   ]
  }
 ],
 "metadata": {
  "kernelspec": {
   "display_name": "Python 3",
   "language": "python",
   "name": "python3"
  },
  "language_info": {
   "codemirror_mode": {
    "name": "ipython",
    "version": 3
   },
   "file_extension": ".py",
   "mimetype": "text/x-python",
   "name": "python",
   "nbconvert_exporter": "python",
   "pygments_lexer": "ipython3",
   "version": "3.10.4"
  }
 },
 "nbformat": 4,
 "nbformat_minor": 5
}
