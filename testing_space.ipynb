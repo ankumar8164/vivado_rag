{
 "cells": [
  {
   "cell_type": "markdown",
   "id": "1889a1b8",
   "metadata": {},
   "source": [
    "# Setup"
   ]
  },
  {
   "cell_type": "code",
   "execution_count": 15,
   "id": "72c0a931",
   "metadata": {},
   "outputs": [
    {
     "name": "stdout",
     "output_type": "stream",
     "text": [
      "Defaulting to user installation because normal site-packages is not writeable\n",
      "Requirement already satisfied: langchain in c:\\users\\ankum\\appdata\\roaming\\python\\python310\\site-packages (0.3.25)\n",
      "Requirement already satisfied: langchain-community in c:\\users\\ankum\\appdata\\roaming\\python\\python310\\site-packages (0.3.24)\n",
      "Requirement already satisfied: sentence-transformers in c:\\users\\ankum\\appdata\\roaming\\python\\python310\\site-packages (4.1.0)\n",
      "Requirement already satisfied: transformers in c:\\users\\ankum\\appdata\\roaming\\python\\python310\\site-packages (4.51.3)\n",
      "Collecting faiss-cpu\n",
      "  Downloading faiss_cpu-1.11.0-cp310-cp310-win_amd64.whl.metadata (5.0 kB)\n",
      "Requirement already satisfied: tiktoken in c:\\users\\ankum\\appdata\\roaming\\python\\python310\\site-packages (0.8.0)\n",
      "Collecting tiktoken\n",
      "  Downloading tiktoken-0.9.0-cp310-cp310-win_amd64.whl.metadata (6.8 kB)\n",
      "Requirement already satisfied: langchain-core<1.0.0,>=0.3.58 in c:\\users\\ankum\\appdata\\roaming\\python\\python310\\site-packages (from langchain) (0.3.59)\n",
      "Requirement already satisfied: langchain-text-splitters<1.0.0,>=0.3.8 in c:\\users\\ankum\\appdata\\roaming\\python\\python310\\site-packages (from langchain) (0.3.8)\n",
      "Requirement already satisfied: langsmith<0.4,>=0.1.17 in c:\\users\\ankum\\appdata\\roaming\\python\\python310\\site-packages (from langchain) (0.3.42)\n",
      "Requirement already satisfied: pydantic<3.0.0,>=2.7.4 in c:\\users\\ankum\\appdata\\roaming\\python\\python310\\site-packages (from langchain) (2.10.6)\n",
      "Requirement already satisfied: SQLAlchemy<3,>=1.4 in c:\\users\\ankum\\appdata\\roaming\\python\\python310\\site-packages (from langchain) (2.0.38)\n",
      "Requirement already satisfied: requests<3,>=2 in c:\\users\\ankum\\appdata\\roaming\\python\\python310\\site-packages (from langchain) (2.32.3)\n",
      "Requirement already satisfied: PyYAML>=5.3 in c:\\users\\ankum\\appdata\\roaming\\python\\python310\\site-packages (from langchain) (6.0.2)\n",
      "Requirement already satisfied: async-timeout<5.0.0,>=4.0.0 in c:\\users\\ankum\\appdata\\roaming\\python\\python310\\site-packages (from langchain) (4.0.2)\n",
      "Requirement already satisfied: aiohttp<4.0.0,>=3.8.3 in c:\\users\\ankum\\appdata\\roaming\\python\\python310\\site-packages (from langchain-community) (3.11.12)\n",
      "Requirement already satisfied: tenacity!=8.4.0,<10,>=8.1.0 in c:\\users\\ankum\\appdata\\roaming\\python\\python310\\site-packages (from langchain-community) (9.0.0)\n",
      "Requirement already satisfied: dataclasses-json<0.7,>=0.5.7 in c:\\users\\ankum\\appdata\\roaming\\python\\python310\\site-packages (from langchain-community) (0.6.7)\n",
      "Requirement already satisfied: pydantic-settings<3.0.0,>=2.4.0 in c:\\users\\ankum\\appdata\\roaming\\python\\python310\\site-packages (from langchain-community) (2.9.1)\n",
      "Requirement already satisfied: httpx-sse<1.0.0,>=0.4.0 in c:\\users\\ankum\\appdata\\roaming\\python\\python310\\site-packages (from langchain-community) (0.4.0)\n",
      "Requirement already satisfied: numpy>=1.26.2 in c:\\users\\ankum\\appdata\\roaming\\python\\python310\\site-packages (from langchain-community) (2.2.5)\n",
      "Requirement already satisfied: tqdm in c:\\users\\ankum\\appdata\\roaming\\python\\python310\\site-packages (from sentence-transformers) (4.67.1)\n",
      "Requirement already satisfied: torch>=1.11.0 in c:\\users\\ankum\\appdata\\roaming\\python\\python310\\site-packages (from sentence-transformers) (1.13.1)\n",
      "Requirement already satisfied: scikit-learn in c:\\users\\ankum\\appdata\\roaming\\python\\python310\\site-packages (from sentence-transformers) (1.2.0)\n",
      "Requirement already satisfied: scipy in c:\\users\\ankum\\appdata\\roaming\\python\\python310\\site-packages (from sentence-transformers) (1.11.4)\n",
      "Requirement already satisfied: huggingface-hub>=0.20.0 in c:\\users\\ankum\\appdata\\roaming\\python\\python310\\site-packages (from sentence-transformers) (0.31.2)\n",
      "Requirement already satisfied: Pillow in c:\\users\\ankum\\appdata\\roaming\\python\\python310\\site-packages (from sentence-transformers) (10.2.0)\n",
      "Requirement already satisfied: typing_extensions>=4.5.0 in c:\\users\\ankum\\appdata\\roaming\\python\\python310\\site-packages (from sentence-transformers) (4.12.2)\n",
      "Requirement already satisfied: filelock in c:\\users\\ankum\\appdata\\roaming\\python\\python310\\site-packages (from transformers) (3.9.0)\n",
      "Requirement already satisfied: packaging>=20.0 in c:\\users\\ankum\\appdata\\roaming\\python\\python310\\site-packages (from transformers) (24.2)\n",
      "Requirement already satisfied: regex!=2019.12.17 in c:\\users\\ankum\\appdata\\roaming\\python\\python310\\site-packages (from transformers) (2022.4.24)\n",
      "Requirement already satisfied: tokenizers<0.22,>=0.21 in c:\\users\\ankum\\appdata\\roaming\\python\\python310\\site-packages (from transformers) (0.21.1)\n",
      "Requirement already satisfied: safetensors>=0.4.3 in c:\\users\\ankum\\appdata\\roaming\\python\\python310\\site-packages (from transformers) (0.5.3)\n",
      "Requirement already satisfied: aiohappyeyeballs>=2.3.0 in c:\\users\\ankum\\appdata\\roaming\\python\\python310\\site-packages (from aiohttp<4.0.0,>=3.8.3->langchain-community) (2.4.6)\n",
      "Requirement already satisfied: aiosignal>=1.1.2 in c:\\users\\ankum\\appdata\\roaming\\python\\python310\\site-packages (from aiohttp<4.0.0,>=3.8.3->langchain-community) (1.2.0)\n",
      "Requirement already satisfied: attrs>=17.3.0 in c:\\users\\ankum\\appdata\\roaming\\python\\python310\\site-packages (from aiohttp<4.0.0,>=3.8.3->langchain-community) (21.4.0)\n",
      "Requirement already satisfied: frozenlist>=1.1.1 in c:\\users\\ankum\\appdata\\roaming\\python\\python310\\site-packages (from aiohttp<4.0.0,>=3.8.3->langchain-community) (1.3.1)\n",
      "Requirement already satisfied: multidict<7.0,>=4.5 in c:\\users\\ankum\\appdata\\roaming\\python\\python310\\site-packages (from aiohttp<4.0.0,>=3.8.3->langchain-community) (6.0.2)\n",
      "Requirement already satisfied: propcache>=0.2.0 in c:\\users\\ankum\\appdata\\roaming\\python\\python310\\site-packages (from aiohttp<4.0.0,>=3.8.3->langchain-community) (0.2.1)\n",
      "Requirement already satisfied: yarl<2.0,>=1.17.0 in c:\\users\\ankum\\appdata\\roaming\\python\\python310\\site-packages (from aiohttp<4.0.0,>=3.8.3->langchain-community) (1.18.3)\n",
      "Requirement already satisfied: marshmallow<4.0.0,>=3.18.0 in c:\\users\\ankum\\appdata\\roaming\\python\\python310\\site-packages (from dataclasses-json<0.7,>=0.5.7->langchain-community) (3.26.1)\n",
      "Requirement already satisfied: typing-inspect<1,>=0.4.0 in c:\\users\\ankum\\appdata\\roaming\\python\\python310\\site-packages (from dataclasses-json<0.7,>=0.5.7->langchain-community) (0.9.0)\n",
      "Requirement already satisfied: fsspec>=2023.5.0 in c:\\users\\ankum\\appdata\\roaming\\python\\python310\\site-packages (from huggingface-hub>=0.20.0->sentence-transformers) (2023.6.0)\n",
      "Requirement already satisfied: jsonpatch<2.0,>=1.33 in c:\\users\\ankum\\appdata\\roaming\\python\\python310\\site-packages (from langchain-core<1.0.0,>=0.3.58->langchain) (1.33)\n",
      "Requirement already satisfied: httpx<1,>=0.23.0 in c:\\users\\ankum\\appdata\\roaming\\python\\python310\\site-packages (from langsmith<0.4,>=0.1.17->langchain) (0.28.1)\n",
      "Requirement already satisfied: orjson<4.0.0,>=3.9.14 in c:\\users\\ankum\\appdata\\roaming\\python\\python310\\site-packages (from langsmith<0.4,>=0.1.17->langchain) (3.10.18)\n",
      "Requirement already satisfied: requests-toolbelt<2.0.0,>=1.0.0 in c:\\users\\ankum\\appdata\\roaming\\python\\python310\\site-packages (from langsmith<0.4,>=0.1.17->langchain) (1.0.0)\n",
      "Requirement already satisfied: zstandard<0.24.0,>=0.23.0 in c:\\users\\ankum\\appdata\\roaming\\python\\python310\\site-packages (from langsmith<0.4,>=0.1.17->langchain) (0.23.0)\n",
      "Requirement already satisfied: annotated-types>=0.6.0 in c:\\users\\ankum\\appdata\\roaming\\python\\python310\\site-packages (from pydantic<3.0.0,>=2.7.4->langchain) (0.7.0)\n",
      "Requirement already satisfied: pydantic-core==2.27.2 in c:\\users\\ankum\\appdata\\roaming\\python\\python310\\site-packages (from pydantic<3.0.0,>=2.7.4->langchain) (2.27.2)\n",
      "Requirement already satisfied: python-dotenv>=0.21.0 in c:\\users\\ankum\\appdata\\roaming\\python\\python310\\site-packages (from pydantic-settings<3.0.0,>=2.4.0->langchain-community) (1.0.1)\n",
      "Requirement already satisfied: typing-inspection>=0.4.0 in c:\\users\\ankum\\appdata\\roaming\\python\\python310\\site-packages (from pydantic-settings<3.0.0,>=2.4.0->langchain-community) (0.4.0)\n",
      "Requirement already satisfied: charset-normalizer<4,>=2 in c:\\users\\ankum\\appdata\\roaming\\python\\python310\\site-packages (from requests<3,>=2->langchain) (2.0.12)\n",
      "Requirement already satisfied: idna<4,>=2.5 in c:\\users\\ankum\\appdata\\roaming\\python\\python310\\site-packages (from requests<3,>=2->langchain) (3.3)\n",
      "Requirement already satisfied: urllib3<3,>=1.21.1 in c:\\users\\ankum\\appdata\\roaming\\python\\python310\\site-packages (from requests<3,>=2->langchain) (1.26.9)\n",
      "Requirement already satisfied: certifi>=2017.4.17 in c:\\users\\ankum\\appdata\\roaming\\python\\python310\\site-packages (from requests<3,>=2->langchain) (2024.12.14)\n",
      "Requirement already satisfied: greenlet!=0.4.17 in c:\\users\\ankum\\appdata\\roaming\\python\\python310\\site-packages (from SQLAlchemy<3,>=1.4->langchain) (3.1.1)\n",
      "Requirement already satisfied: colorama in c:\\users\\ankum\\appdata\\roaming\\python\\python310\\site-packages (from tqdm->sentence-transformers) (0.4.6)\n",
      "Requirement already satisfied: joblib>=1.1.1 in c:\\users\\ankum\\appdata\\roaming\\python\\python310\\site-packages (from scikit-learn->sentence-transformers) (1.2.0)\n",
      "Requirement already satisfied: threadpoolctl>=2.0.0 in c:\\users\\ankum\\appdata\\roaming\\python\\python310\\site-packages (from scikit-learn->sentence-transformers) (3.1.0)\n",
      "Collecting numpy>=1.26.2 (from langchain-community)\n",
      "  Downloading numpy-1.26.4-cp310-cp310-win_amd64.whl.metadata (61 kB)\n",
      "Requirement already satisfied: anyio in c:\\users\\ankum\\appdata\\roaming\\python\\python310\\site-packages (from httpx<1,>=0.23.0->langsmith<0.4,>=0.1.17->langchain) (3.6.2)\n",
      "Requirement already satisfied: httpcore==1.* in c:\\users\\ankum\\appdata\\roaming\\python\\python310\\site-packages (from httpx<1,>=0.23.0->langsmith<0.4,>=0.1.17->langchain) (1.0.7)\n",
      "Requirement already satisfied: h11<0.15,>=0.13 in c:\\users\\ankum\\appdata\\roaming\\python\\python310\\site-packages (from httpcore==1.*->httpx<1,>=0.23.0->langsmith<0.4,>=0.1.17->langchain) (0.14.0)\n",
      "Requirement already satisfied: jsonpointer>=1.9 in c:\\users\\ankum\\appdata\\roaming\\python\\python310\\site-packages (from jsonpatch<2.0,>=1.33->langchain-core<1.0.0,>=0.3.58->langchain) (2.3)\n",
      "Requirement already satisfied: mypy-extensions>=0.3.0 in c:\\users\\ankum\\appdata\\roaming\\python\\python310\\site-packages (from typing-inspect<1,>=0.4.0->dataclasses-json<0.7,>=0.5.7->langchain-community) (1.0.0)\n",
      "Requirement already satisfied: sniffio>=1.1 in c:\\users\\ankum\\appdata\\roaming\\python\\python310\\site-packages (from anyio->httpx<1,>=0.23.0->langsmith<0.4,>=0.1.17->langchain) (1.3.0)\n",
      "Downloading faiss_cpu-1.11.0-cp310-cp310-win_amd64.whl (15.0 MB)\n",
      "   ---------------------------------------- 15.0/15.0 MB 24.2 MB/s eta 0:00:00\n",
      "Downloading tiktoken-0.9.0-cp310-cp310-win_amd64.whl (894 kB)\n",
      "   --------------------------------------- 894.0/894.0 kB 19.7 MB/s eta 0:00:00\n",
      "Downloading numpy-1.26.4-cp310-cp310-win_amd64.whl (15.8 MB)\n",
      "   ---------------------------------------- 15.8/15.8 MB 26.9 MB/s eta 0:00:00\n",
      "Installing collected packages: numpy, tiktoken, faiss-cpu\n",
      "  Attempting uninstall: numpy\n",
      "    Found existing installation: numpy 2.2.5\n",
      "    Uninstalling numpy-2.2.5:\n",
      "      Successfully uninstalled numpy-2.2.5\n",
      "  Attempting uninstall: tiktoken\n",
      "    Found existing installation: tiktoken 0.8.0\n",
      "    Uninstalling tiktoken-0.8.0:\n",
      "      Successfully uninstalled tiktoken-0.8.0\n",
      "Successfully installed faiss-cpu-1.11.0 numpy-1.26.4 tiktoken-0.9.0\n",
      "Note: you may need to restart the kernel to use updated packages.\n"
     ]
    },
    {
     "name": "stderr",
     "output_type": "stream",
     "text": [
      "ERROR: pip's dependency resolver does not currently take into account all the packages that are installed. This behaviour is the source of the following dependency conflicts.\n",
      "tensorflow-intel 2.14.0 requires protobuf!=4.21.0,!=4.21.1,!=4.21.2,!=4.21.3,!=4.21.4,!=4.21.5,<5.0.0dev,>=3.20.3, but you have protobuf 5.29.3 which is incompatible.\n",
      "\n",
      "[notice] A new release of pip is available: 25.0.1 -> 25.1.1\n",
      "[notice] To update, run: python.exe -m pip install --upgrade pip\n"
     ]
    }
   ],
   "source": [
    "%pip install --upgrade langchain langchain-community sentence-transformers transformers faiss-cpu tiktoken"
   ]
  },
  {
   "cell_type": "code",
   "execution_count": 2,
   "id": "b3251580",
   "metadata": {},
   "outputs": [
    {
     "data": {
      "text/plain": [
       "<module 'chunking_utils' from 'c:\\\\Users\\\\ankum\\\\OneDrive\\\\Desktop\\\\vivado_rag\\\\chunking_utils.py'>"
      ]
     },
     "execution_count": 2,
     "metadata": {},
     "output_type": "execute_result"
    }
   ],
   "source": [
    "# import importlib\n",
    "import pymupdf4llm\n",
    "import pathlib\n",
    "from tqdm import tqdm\n",
    "from langchain.schema import Document\n",
    "import chunking_utils\n",
    "import langchain\n",
    "from langchain.embeddings import SentenceTransformerEmbeddings\n",
    "from langchain.vectorstores import FAISS\n",
    "\n",
    "import importlib\n",
    "importlib.reload(chunking_utils)"
   ]
  },
  {
   "cell_type": "markdown",
   "id": "7765ea0d",
   "metadata": {},
   "source": [
    "# Exploration using General PyMuPDF4LLM Methods"
   ]
  },
  {
   "cell_type": "code",
   "execution_count": 6,
   "id": "113f02a8",
   "metadata": {},
   "outputs": [],
   "source": [
    "vivado_documentation_md = pymupdf4llm.to_markdown(\"vivado_documentation.pdf\")"
   ]
  },
  {
   "cell_type": "code",
   "execution_count": 9,
   "id": "1cb38886",
   "metadata": {},
   "outputs": [
    {
     "data": {
      "text/plain": [
       "869140"
      ]
     },
     "execution_count": 9,
     "metadata": {},
     "output_type": "execute_result"
    }
   ],
   "source": [
    "pathlib.Path(\"markdown_files/vivado_documentation.md\").write_bytes(vivado_documentation_md.encode())"
   ]
  },
  {
   "cell_type": "markdown",
   "id": "b2449595",
   "metadata": {},
   "source": [
    "# Exploration using PyMuPDF4LLM + LlamaIndex"
   ]
  },
  {
   "cell_type": "code",
   "execution_count": null,
   "id": "97f4f626",
   "metadata": {},
   "outputs": [
    {
     "name": "stdout",
     "output_type": "stream",
     "text": [
      "Successfully imported LlamaIndex\n"
     ]
    }
   ],
   "source": [
    "md_read = pymupdf4llm.LlamaMarkdownReader()\n",
    "vivado_documentation_llama = md_read.load_data(\"vivado_documentation.pdf\")"
   ]
  },
  {
   "cell_type": "code",
   "execution_count": 3,
   "id": "3588034e",
   "metadata": {},
   "outputs": [
    {
     "name": "stdout",
     "output_type": "stream",
     "text": [
      "*Chapter 1:* Introduction\n",
      "\n",
      "     - Appendix D: JTAG Cables and Devices Supported by hw_server\n",
      "\n",
      "    Appendix F: Configuration Memory Support\n",
      "### **Getting Started**\n",
      "\n",
      "After successfully implementing your design, the next step is to run it in hardware by\n",
      "programming the FPGA or ACAP and debugging the design in-system. All of the necessary\n",
      "commands to perform programming of FPGAs and in-system debugging of the design are in the\n",
      "**Program and Debug** section of the **Flow Navigator** in the Vivado [®] Integrated Design\n",
      "Environment (IDE) (see the following figure).\n",
      "\n",
      "*Figure 1:* **Program and Debug Section of the Flow Navigator Panel**\n",
      "\n",
      "UG908 (v2022.1) April 26, 2022 [www.xilinx.com](https://www.xilinx.com)\n",
      "[Send Feedback](https://www.xilinx.com/about/feedback/document-feedback.html?docType=User_Guides&docId=UG908&Title=%20Vivado%20Design%20Suite%20User%20Guide&releaseVersion=2022.1&docPage=9)\n",
      "Vivado Design Suite User Guide: Programming and Debugging 9\n",
      "\n",
      "\n",
      "-----\n"
     ]
    }
   ],
   "source": [
    "# page 9 (index 8) has text + images so is challenging\n",
    "print(vivado_documentation_llama[8].to_dict()['text'])"
   ]
  },
  {
   "cell_type": "code",
   "execution_count": 4,
   "id": "9509df9c",
   "metadata": {},
   "outputs": [
    {
     "name": "stdout",
     "output_type": "stream",
     "text": [
      "*Chapter 1:* Introduction\n",
      "### **Debug Terminology**\n",
      "##### **ILA**\n",
      "\n",
      "The Integrated Logic Analyzer (ILA) feature allows you to perform in-system debugging of postimplemented designs on an FPGA, SoC, or Versal [®] device. This feature should be used when\n",
      "there is a need to monitor signals in the design. You can also use this feature to trigger on\n",
      "hardware events and capture data at system speeds.\n",
      "\n",
      "The ILA core can be instantiated in your RTL code or inserted post synthesis in the Vivado design\n",
      "flow. Detailed documentation on the ILA core IP can be found in the *Integrated Logic Analyzer*\n",
      "*LogiCORE IP Product Guide* [(PG172).](https://www.xilinx.com/cgi-bin/docs/ipdoc?c=ila;v=latest;d=pg172-ila.pdf)\n",
      "\n",
      "**Related Information**\n",
      "\n",
      "In-System Logic Design Debugging Flows\n",
      "\n",
      "Debugging Logic Designs in Hardware\n",
      "##### **VIO**\n",
      "\n",
      "The Virtual Input/Output (VIO) debug feature can both monitor and drive internal FPGA, SoC, or\n",
      "Versal ACAP signals in real time. In the absence of physical access to the target hardware, you\n",
      "can use this debug feature to drive and monitor signals that are present on the real hardware.\n",
      "\n",
      "This debug core needs to be instantiated in the RTL code, hence you need to know up-front,\n",
      "what nets to drive. The IP Catalog lists this core under the Debug category. Detailed\n",
      "documentation on the VIO core IP can be found in the *Virtual Input/Output LogiCORE IP Product*\n",
      "*Guide* [(PG159).](https://www.xilinx.com/cgi-bin/docs/ipdoc?c=vio;v=latest;d=pg159-vio.pdf)\n",
      "\n",
      "**Related Information**\n",
      "\n",
      "Debugging Logic Designs in Hardware\n",
      "##### **IBERT**\n",
      "\n",
      "The Integrated Bit Error Ratio Tester (IBERT) Serial Analyzer design enables in-system serial I/O\n",
      "validation and debug. This allows you to measure and optimize your high-speed serial I/O links in\n",
      "your FPGA-based system. Xilinx recommends using the IBERT Serial Analyzer design when you\n",
      "are interested in addressing a range of in-system debug and validation problems from simple\n",
      "clocking and connectivity issues to complex margin analysis and channel optimization issues.\n",
      "\n",
      "UG908 (v2022.1) April 26, 2022 [www.xilinx.com](https://www.xilinx.com)\n",
      "[Send Feedback](https://www.xilinx.com/about/feedback/document-feedback.html?docType=User_Guides&docId=UG908&Title=%20Vivado%20Design%20Suite%20User%20Guide&releaseVersion=2022.1&docPage=10)\n",
      "Vivado Design Suite User Guide: Programming and Debugging 10\n",
      "\n",
      "\n",
      "-----\n"
     ]
    }
   ],
   "source": [
    "# page 10 (index 9) for further exploration\n",
    "print(vivado_documentation_llama[9].to_dict()['text'])"
   ]
  },
  {
   "cell_type": "markdown",
   "id": "5576d6a7",
   "metadata": {},
   "source": [
    "# Creating Chunks"
   ]
  },
  {
   "cell_type": "code",
   "execution_count": 6,
   "id": "1ca0a9ab",
   "metadata": {},
   "outputs": [
    {
     "name": "stderr",
     "output_type": "stream",
     "text": [
      "100%|██████████| 350/350 [00:00<00:00, 11762.68it/s]"
     ]
    },
    {
     "name": "stdout",
     "output_type": "stream",
     "text": [
      "1119 chunks created\n",
      "There are 350 pages\n"
     ]
    },
    {
     "name": "stderr",
     "output_type": "stream",
     "text": [
      "\n"
     ]
    }
   ],
   "source": [
    "# starting from page 9 (index 8) till page 358 (index 357)\n",
    "# ignoring tables for now\n",
    "all_chunks = []\n",
    "all_pages = []\n",
    "start_index = 8\n",
    "end_index = 357\n",
    "for index in tqdm(range(start_index, end_index + 1)):\n",
    "    curr_page_number = index + 1\n",
    "    try:\n",
    "        curr_text = vivado_documentation_llama[index].to_dict()['text']\n",
    "        new_chunks = chunking_utils.chunk_markdown(curr_text)\n",
    "    except Exception as e:\n",
    "        print(f\"Skipping page {curr_page_number}: {e}\")\n",
    "        continue\n",
    "    \n",
    "    all_chunks.extend(new_chunks)\n",
    "    all_pages.extend([curr_page_number] * len(new_chunks))\n",
    "\n",
    "print(f\"{len(all_chunks)} chunks created\")\n",
    "print(f\"There are {len(set(all_pages))} pages\")"
   ]
  },
  {
   "cell_type": "code",
   "execution_count": 7,
   "id": "c2c66adf",
   "metadata": {},
   "outputs": [
    {
     "data": {
      "text/plain": [
       "(['- Appendix D: JTAG Cables and Devices Supported by hw_server\\n\\n    Appendix F: Configuration Memory Support',\n",
       "  'Appendix F: Configuration Memory Support\\n\\nAfter successfully implementing your design, the next step is to run it in hardware by\\nprogramming the FPGA or ACAP and debugging the design in-system. All of the necessary\\ncommands to perform programming of FPGAs and in-system debugging of the design are in the\\n**Program and Debug** section of the **Flow Navigator** in the Vivado [®] Integrated Design\\nEnvironment (IDE) (see the following figure).',\n",
       "  '*Figure 1:* **Program and Debug Section of the Flow Navigator Panel**',\n",
       "  'The Integrated Logic Analyzer (ILA) feature allows you to perform in-system debugging of postimplemented designs on an FPGA, SoC, or Versal [®] device. This feature should be used when\\nthere is a need to monitor signals in the design. You can also use this feature to trigger on\\nhardware events and capture data at system speeds.',\n",
       "  'The ILA core can be instantiated in your RTL code or inserted post synthesis in the Vivado design\\nflow. Detailed documentation on the ILA core IP can be found in the *Integrated Logic Analyzer*\\n*LogiCORE IP Product Guide* [(PG172).](https://www.xilinx.com/cgi-bin/docs/ipdoc?c=ila;v=latest;d=pg172-ila.pdf)\\n\\n\\nIn-System Logic Design Debugging Flows\\n\\nDebugging Logic Designs in Hardware'],\n",
       " [9, 9, 9, 10, 10])"
      ]
     },
     "execution_count": 7,
     "metadata": {},
     "output_type": "execute_result"
    }
   ],
   "source": [
    "# just to take a look at chunks\n",
    "(all_chunks[:5], all_pages[:5])"
   ]
  },
  {
   "cell_type": "code",
   "execution_count": null,
   "id": "516d7a4b",
   "metadata": {},
   "outputs": [
    {
     "ename": "AttributeError",
     "evalue": "Could not find: embeddings",
     "output_type": "error",
     "traceback": [
      "\u001b[1;31m---------------------------------------------------------------------------\u001b[0m",
      "\u001b[1;31mAttributeError\u001b[0m                            Traceback (most recent call last)",
      "Cell \u001b[1;32mIn [12], line 6\u001b[0m\n\u001b[0;32m      4\u001b[0m     page_num \u001b[38;5;241m=\u001b[39m all_pages[ind]\n\u001b[0;32m      5\u001b[0m     all_docs\u001b[38;5;241m.\u001b[39mappend(Document(page_content \u001b[38;5;241m=\u001b[39m chunk, metadata \u001b[38;5;241m=\u001b[39m {\u001b[38;5;124m\"\u001b[39m\u001b[38;5;124mpage_number\u001b[39m\u001b[38;5;124m\"\u001b[39m : page_num}))\n\u001b[1;32m----> 6\u001b[0m embeddings \u001b[38;5;241m=\u001b[39m \u001b[43mlangchain\u001b[49m\u001b[38;5;241;43m.\u001b[39;49m\u001b[43membeddings\u001b[49m\u001b[38;5;241m.\u001b[39mSentenceTransformerEmbeddings(model_name\u001b[38;5;241m=\u001b[39m\u001b[38;5;124m\"\u001b[39m\u001b[38;5;124mall-MiniLM-L6-v2\u001b[39m\u001b[38;5;124m\"\u001b[39m)\n\u001b[0;32m      7\u001b[0m vectorstore \u001b[38;5;241m=\u001b[39m FAISS\u001b[38;5;241m.\u001b[39mfrom_documents(docs, embeddings)\n",
      "File \u001b[1;32m~\\AppData\\Roaming\\Python\\Python310\\site-packages\\langchain\\__init__.py:389\u001b[0m, in \u001b[0;36m__getattr__\u001b[1;34m(name)\u001b[0m\n\u001b[0;32m    387\u001b[0m     \u001b[38;5;28;01mreturn\u001b[39;00m _llm_cache\n\u001b[0;32m    388\u001b[0m \u001b[38;5;28;01melse\u001b[39;00m:\n\u001b[1;32m--> 389\u001b[0m     \u001b[38;5;28;01mraise\u001b[39;00m \u001b[38;5;167;01mAttributeError\u001b[39;00m(\u001b[38;5;124mf\u001b[39m\u001b[38;5;124m\"\u001b[39m\u001b[38;5;124mCould not find: \u001b[39m\u001b[38;5;132;01m{\u001b[39;00mname\u001b[38;5;132;01m}\u001b[39;00m\u001b[38;5;124m\"\u001b[39m)\n",
      "\u001b[1;31mAttributeError\u001b[0m: Could not find: embeddings"
     ]
    }
   ],
   "source": [
    "# create embedding and store into FAISS\n",
    "all_docs = []\n",
    "for ind, chunk in enumerate(all_chunks):\n",
    "    page_num = all_pages[ind]\n",
    "    all_docs.append(Document(page_content = chunk, metadata = {\"page_number\" : page_num}))\n",
    "embeddings = SentenceTransformerEmbeddings(model_name=\"all-MiniLM-L6-v2\")\n",
    "vectorstore = FAISS.from_documents(all_docs, embeddings)\n",
    "vectorstore.save_local(\"faiss_index\")"
   ]
  }
 ],
 "metadata": {
  "kernelspec": {
   "display_name": "Python 3",
   "language": "python",
   "name": "python3"
  },
  "language_info": {
   "codemirror_mode": {
    "name": "ipython",
    "version": 3
   },
   "file_extension": ".py",
   "mimetype": "text/x-python",
   "name": "python",
   "nbconvert_exporter": "python",
   "pygments_lexer": "ipython3",
   "version": "3.10.4"
  }
 },
 "nbformat": 4,
 "nbformat_minor": 5
}
